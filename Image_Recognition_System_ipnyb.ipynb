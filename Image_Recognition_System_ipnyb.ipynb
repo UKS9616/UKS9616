{
  "cells": [
    {
      "cell_type": "markdown",
      "metadata": {
        "id": "view-in-github",
        "colab_type": "text"
      },
      "source": [
        "<a href=\"https://colab.research.google.com/github/udip-shrestha/udip_s/blob/main/Image_Recognition_System_ipnyb.ipynb\" target=\"_parent\"><img src=\"https://colab.research.google.com/assets/colab-badge.svg\" alt=\"Open In Colab\"/></a>"
      ]
    },
    {
      "cell_type": "code",
      "execution_count": null,
      "metadata": {
        "id": "J8pn8INb7QHJ"
      },
      "outputs": [],
      "source": []
    },
    {
      "cell_type": "markdown",
      "metadata": {
        "id": "rvGrv3VX7vxA"
      },
      "source": [
        "Importing dataset\n"
      ]
    },
    {
      "cell_type": "code",
      "execution_count": null,
      "metadata": {
        "colab": {
          "base_uri": "https://localhost:8080/"
        },
        "id": "qAktgVgI7zv1",
        "outputId": "3fa024b8-5b2c-4d2a-d5d8-3047bb2fb5cb"
      },
      "outputs": [
        {
          "output_type": "stream",
          "name": "stdout",
          "text": [
            "Drive already mounted at /content/drive/; to attempt to forcibly remount, call drive.mount(\"/content/drive/\", force_remount=True).\n"
          ]
        }
      ],
      "source": [
        "from google.colab import drive\n",
        "drive.mount('/content/drive/')"
      ]
    },
    {
      "cell_type": "markdown",
      "metadata": {
        "id": "q06ICQRPSInU"
      },
      "source": [
        "Importing Libraries"
      ]
    },
    {
      "cell_type": "code",
      "execution_count": null,
      "metadata": {
        "id": "8ngs3cdhSLHW"
      },
      "outputs": [],
      "source": [
        "import numpy as np\n",
        "import pandas as pd\n",
        "import tensorflow as tf\n",
        "import matplotlib.pyplot as plt"
      ]
    },
    {
      "cell_type": "markdown",
      "metadata": {
        "id": "V_lO4GzRSXSl"
      },
      "source": [
        "# Data preprocessing"
      ]
    },
    {
      "cell_type": "markdown",
      "metadata": {
        "id": "nmb4sgIFS7NX"
      },
      "source": [
        "# Training image preprocessing"
      ]
    },
    {
      "cell_type": "code",
      "execution_count": null,
      "metadata": {
        "colab": {
          "base_uri": "https://localhost:8080/"
        },
        "id": "BjkoaIJkTEiC",
        "outputId": "2db52562-32c3-48da-fcb7-9106c573d648"
      },
      "outputs": [
        {
          "output_type": "stream",
          "name": "stdout",
          "text": [
            "Found 8515 files belonging to 126 classes.\n"
          ]
        }
      ],
      "source": [
        "training_set = tf.keras.utils.image_dataset_from_directory(\n",
        "    '/content/drive/MyDrive/Images/Images',\n",
        "    labels='inferred',\n",
        "    label_mode='int',\n",
        "    class_names=None,\n",
        "    color_mode='rgb',\n",
        "    batch_size=32,\n",
        "    image_size=(64, 64),\n",
        "    shuffle=True,\n",
        "    seed=None,\n",
        "    validation_split=None,\n",
        "    subset=None,\n",
        "    interpolation='bilinear',\n",
        "    follow_links=False,\n",
        "    crop_to_aspect_ratio=False\n",
        ")\n"
      ]
    },
    {
      "cell_type": "markdown",
      "metadata": {
        "id": "_xS6Se3_ZTPG"
      },
      "source": [
        "#Validation Image Preprocessing"
      ]
    },
    {
      "cell_type": "code",
      "execution_count": null,
      "metadata": {
        "colab": {
          "base_uri": "https://localhost:8080/"
        },
        "id": "_Eo8vYH-Zccr",
        "outputId": "bc586eb4-d321-47a3-da84-16b8299a9378"
      },
      "outputs": [
        {
          "output_type": "stream",
          "name": "stdout",
          "text": [
            "Found 8515 files belonging to 126 classes.\n"
          ]
        }
      ],
      "source": [
        "validation_set = tf.keras.utils.image_dataset_from_directory(\n",
        "    '/content/drive/MyDrive/Images/Images',\n",
        "    labels='inferred',\n",
        "    label_mode='int',\n",
        "    class_names=None,\n",
        "    color_mode='rgb',\n",
        "    batch_size=32,\n",
        "    image_size=(64, 64),\n",
        "    shuffle=True,\n",
        "    seed=None,\n",
        "    validation_split=None,\n",
        "    subset=None,\n",
        "    interpolation='bilinear',\n",
        "    follow_links=False,\n",
        "    crop_to_aspect_ratio=False\n",
        ")"
      ]
    },
    {
      "cell_type": "markdown",
      "metadata": {
        "id": "TagDHpBdeWyq"
      },
      "source": [
        "#Model Building"
      ]
    },
    {
      "cell_type": "code",
      "execution_count": null,
      "metadata": {
        "id": "FAQRDT4ReYnl"
      },
      "outputs": [],
      "source": [
        "cnn = tf.keras.models.Sequential()\n"
      ]
    },
    {
      "cell_type": "markdown",
      "metadata": {
        "id": "_lhJWgiznAIX"
      },
      "source": [
        "#Building Convolution Layer"
      ]
    },
    {
      "cell_type": "code",
      "execution_count": null,
      "metadata": {
        "id": "aKV76rmAnC3C"
      },
      "outputs": [],
      "source": [
        "cnn.add(tf.keras.layers.Conv2D(filters=64, kernel_size=3, activation='relu', input_shape=[64, 64, 3]))\n",
        "cnn.add(tf.keras.layers.Conv2D(filters=64, kernel_size=3, activation='relu'))\n",
        "\n",
        "cnn.add(tf.keras.layers.MaxPool2D(pool_size=2, strides=2))"
      ]
    },
    {
      "cell_type": "code",
      "execution_count": null,
      "metadata": {
        "id": "ibn8ULJynzXH"
      },
      "outputs": [],
      "source": [
        "cnn.add(tf.keras.layers.Conv2D(filters=64, kernel_size=3, activation='relu'))\n",
        "cnn.add(tf.keras.layers.Conv2D(filters=64, kernel_size=3, activation='relu'))\n",
        "cnn.add(tf.keras.layers.MaxPool2D(pool_size=2, strides=2))"
      ]
    },
    {
      "cell_type": "code",
      "execution_count": null,
      "metadata": {
        "id": "ZZmy9DiTo3Xd"
      },
      "outputs": [],
      "source": [
        "# cnn.add(tf.keras.layers.Dropout(0.5)) # To avoid overfitting"
      ]
    },
    {
      "cell_type": "code",
      "execution_count": null,
      "metadata": {
        "id": "cpM16no4pI3u"
      },
      "outputs": [],
      "source": [
        "cnn.add(tf.keras.layers.Flatten())"
      ]
    },
    {
      "cell_type": "code",
      "execution_count": null,
      "metadata": {
        "id": "-UDzB004pNF5"
      },
      "outputs": [],
      "source": [
        "cnn.add(tf.keras.layers.Dense(units=512, activation='relu'))"
      ]
    },
    {
      "cell_type": "code",
      "source": [
        "cnn.add(tf.keras.layers.Dense(units=256, activation='relu'))"
      ],
      "metadata": {
        "id": "8qXkkZyFtwy8"
      },
      "execution_count": null,
      "outputs": []
    },
    {
      "cell_type": "code",
      "source": [
        "cnn.add(tf.keras.layers.Dropout(0.5)) # Dropping some neuron to avoid overfitting"
      ],
      "metadata": {
        "id": "7HfXLmtguG8c"
      },
      "execution_count": null,
      "outputs": []
    },
    {
      "cell_type": "code",
      "execution_count": null,
      "metadata": {
        "id": "gT-0Oo9RppUj"
      },
      "outputs": [],
      "source": [
        "# Output Layer\n",
        "cnn.add(tf.keras.layers.Dense(units=126, activation='softmax'))"
      ]
    },
    {
      "cell_type": "markdown",
      "metadata": {
        "id": "FO0ET5nlqLAn"
      },
      "source": [
        "# Compiling and Training Phase"
      ]
    },
    {
      "cell_type": "code",
      "execution_count": null,
      "metadata": {
        "id": "Kq7hk8zXqSCL"
      },
      "outputs": [],
      "source": [
        "cnn.compile(\n",
        "    optimizer='adam',\n",
        "    loss=tf.keras.losses.SparseCategoricalCrossentropy(from_logits=False),  # Use from_logits=False since we're using softmax activation\n",
        "    metrics=['accuracy']\n",
        ")"
      ]
    },
    {
      "cell_type": "code",
      "source": [
        "cnn.summary()"
      ],
      "metadata": {
        "colab": {
          "base_uri": "https://localhost:8080/"
        },
        "id": "3_58Y3sxsbKc",
        "outputId": "4525cc41-6661-405b-82fc-5fafa5a6a72e"
      },
      "execution_count": null,
      "outputs": [
        {
          "output_type": "stream",
          "name": "stdout",
          "text": [
            "Model: \"sequential_1\"\n",
            "_________________________________________________________________\n",
            " Layer (type)                Output Shape              Param #   \n",
            "=================================================================\n",
            " conv2d_7 (Conv2D)           (None, 62, 62, 64)        1792      \n",
            "                                                                 \n",
            " max_pooling2d_2 (MaxPoolin  (None, 31, 31, 64)        0         \n",
            " g2D)                                                            \n",
            "                                                                 \n",
            " conv2d_8 (Conv2D)           (None, 29, 29, 64)        36928     \n",
            "                                                                 \n",
            " conv2d_9 (Conv2D)           (None, 27, 27, 64)        36928     \n",
            "                                                                 \n",
            " max_pooling2d_3 (MaxPoolin  (None, 13, 13, 64)        0         \n",
            " g2D)                                                            \n",
            "                                                                 \n",
            " conv2d_10 (Conv2D)          (None, 11, 11, 64)        36928     \n",
            "                                                                 \n",
            " conv2d_11 (Conv2D)          (None, 9, 9, 64)          36928     \n",
            "                                                                 \n",
            " max_pooling2d_4 (MaxPoolin  (None, 4, 4, 64)          0         \n",
            " g2D)                                                            \n",
            "                                                                 \n",
            " flatten_1 (Flatten)         (None, 1024)              0         \n",
            "                                                                 \n",
            " dense_2 (Dense)             (None, 512)               524800    \n",
            "                                                                 \n",
            " dense_3 (Dense)             (None, 256)               131328    \n",
            "                                                                 \n",
            " dropout_1 (Dropout)         (None, 256)               0         \n",
            "                                                                 \n",
            " dense_4 (Dense)             (None, 90)                23130     \n",
            "                                                                 \n",
            "=================================================================\n",
            "Total params: 828762 (3.16 MB)\n",
            "Trainable params: 828762 (3.16 MB)\n",
            "Non-trainable params: 0 (0.00 Byte)\n",
            "_________________________________________________________________\n"
          ]
        }
      ]
    },
    {
      "cell_type": "code",
      "execution_count": null,
      "metadata": {
        "colab": {
          "base_uri": "https://localhost:8080/"
        },
        "id": "LePBDMr3vav9",
        "outputId": "29e28ecc-05db-423b-8375-e4bc4acc8ad2"
      },
      "outputs": [
        {
          "output_type": "stream",
          "name": "stdout",
          "text": [
            "Epoch 1/32\n",
            "267/267 [==============================] - 2370s 9s/step - loss: 4.8345 - accuracy: 0.0087 - val_loss: 4.8292 - val_accuracy: 0.0115\n",
            "Epoch 2/32\n",
            "267/267 [==============================] - 628s 2s/step - loss: 4.8287 - accuracy: 0.0092 - val_loss: 4.8251 - val_accuracy: 0.0117\n",
            "Epoch 3/32\n",
            "267/267 [==============================] - 626s 2s/step - loss: 4.8255 - accuracy: 0.0094 - val_loss: 4.8226 - val_accuracy: 0.0115\n",
            "Epoch 4/32\n",
            "267/267 [==============================] - 630s 2s/step - loss: 4.8236 - accuracy: 0.0101 - val_loss: 4.8211 - val_accuracy: 0.0117\n",
            "Epoch 5/32\n",
            "267/267 [==============================] - 627s 2s/step - loss: 4.8225 - accuracy: 0.0099 - val_loss: 4.8203 - val_accuracy: 0.0117\n",
            "Epoch 6/32\n",
            "267/267 [==============================] - 631s 2s/step - loss: 4.8219 - accuracy: 0.0101 - val_loss: 4.8199 - val_accuracy: 0.0117\n",
            "Epoch 7/32\n",
            "267/267 [==============================] - 630s 2s/step - loss: 4.8215 - accuracy: 0.0108 - val_loss: 4.8196 - val_accuracy: 0.0117\n",
            "Epoch 8/32\n",
            "267/267 [==============================] - 621s 2s/step - loss: 4.8213 - accuracy: 0.0102 - val_loss: 4.8195 - val_accuracy: 0.0117\n",
            "Epoch 9/32\n",
            "267/267 [==============================] - 611s 2s/step - loss: 4.8213 - accuracy: 0.0092 - val_loss: 4.8194 - val_accuracy: 0.0117\n",
            "Epoch 10/32\n",
            "267/267 [==============================] - 614s 2s/step - loss: 4.8212 - accuracy: 0.0101 - val_loss: 4.8193 - val_accuracy: 0.0117\n",
            "Epoch 11/32\n",
            "267/267 [==============================] - 623s 2s/step - loss: 4.8211 - accuracy: 0.0093 - val_loss: 4.8193 - val_accuracy: 0.0117\n",
            "Epoch 12/32\n",
            "267/267 [==============================] - 631s 2s/step - loss: 4.8211 - accuracy: 0.0103 - val_loss: 4.8193 - val_accuracy: 0.0117\n",
            "Epoch 13/32\n",
            "267/267 [==============================] - 627s 2s/step - loss: 4.8211 - accuracy: 0.0108 - val_loss: 4.8193 - val_accuracy: 0.0117\n",
            "Epoch 14/32\n",
            "267/267 [==============================] - 622s 2s/step - loss: 4.8211 - accuracy: 0.0117 - val_loss: 4.8193 - val_accuracy: 0.0117\n",
            "Epoch 15/32\n",
            "267/267 [==============================] - 611s 2s/step - loss: 4.8211 - accuracy: 0.0108 - val_loss: 4.8193 - val_accuracy: 0.0117\n",
            "Epoch 16/32\n",
            "267/267 [==============================] - 623s 2s/step - loss: 4.8211 - accuracy: 0.0107 - val_loss: 4.8193 - val_accuracy: 0.0117\n",
            "Epoch 17/32\n",
            "267/267 [==============================] - 613s 2s/step - loss: 4.8211 - accuracy: 0.0103 - val_loss: 4.8193 - val_accuracy: 0.0117\n",
            "Epoch 18/32\n",
            "267/267 [==============================] - 616s 2s/step - loss: 4.8211 - accuracy: 0.0102 - val_loss: 4.8193 - val_accuracy: 0.0117\n",
            "Epoch 19/32\n",
            "267/267 [==============================] - 621s 2s/step - loss: 4.8211 - accuracy: 0.0119 - val_loss: 4.8193 - val_accuracy: 0.0117\n",
            "Epoch 20/32\n",
            "267/267 [==============================] - 615s 2s/step - loss: 4.8211 - accuracy: 0.0108 - val_loss: 4.8193 - val_accuracy: 0.0117\n",
            "Epoch 21/32\n",
            "267/267 [==============================] - 626s 2s/step - loss: 4.8211 - accuracy: 0.0106 - val_loss: 4.8193 - val_accuracy: 0.0117\n",
            "Epoch 22/32\n",
            "267/267 [==============================] - 611s 2s/step - loss: 4.8211 - accuracy: 0.0103 - val_loss: 4.8193 - val_accuracy: 0.0117\n",
            "Epoch 23/32\n",
            "267/267 [==============================] - 620s 2s/step - loss: 4.8211 - accuracy: 0.0099 - val_loss: 4.8193 - val_accuracy: 0.0117\n",
            "Epoch 24/32\n",
            "267/267 [==============================] - 623s 2s/step - loss: 4.8211 - accuracy: 0.0101 - val_loss: 4.8193 - val_accuracy: 0.0117\n",
            "Epoch 25/32\n",
            "267/267 [==============================] - 620s 2s/step - loss: 4.8211 - accuracy: 0.0101 - val_loss: 4.8193 - val_accuracy: 0.0117\n",
            "Epoch 26/32\n",
            "267/267 [==============================] - 617s 2s/step - loss: 4.8211 - accuracy: 0.0092 - val_loss: 4.8193 - val_accuracy: 0.0117\n",
            "Epoch 27/32\n",
            "267/267 [==============================] - 619s 2s/step - loss: 4.8210 - accuracy: 0.0100 - val_loss: 4.8193 - val_accuracy: 0.0117\n",
            "Epoch 28/32\n",
            "267/267 [==============================] - 623s 2s/step - loss: 4.8211 - accuracy: 0.0087 - val_loss: 4.8193 - val_accuracy: 0.0117\n",
            "Epoch 29/32\n",
            "267/267 [==============================] - 617s 2s/step - loss: 4.8211 - accuracy: 0.0089 - val_loss: 4.8193 - val_accuracy: 0.0117\n",
            "Epoch 30/32\n",
            "267/267 [==============================] - 617s 2s/step - loss: 4.8211 - accuracy: 0.0096 - val_loss: 4.8193 - val_accuracy: 0.0117\n",
            "Epoch 31/32\n",
            "267/267 [==============================] - 649s 2s/step - loss: 4.8211 - accuracy: 0.0099 - val_loss: 4.8193 - val_accuracy: 0.0117\n",
            "Epoch 32/32\n",
            "267/267 [==============================] - 690s 3s/step - loss: 4.8211 - accuracy: 0.0100 - val_loss: 4.8193 - val_accuracy: 0.0117\n"
          ]
        }
      ],
      "source": [
        "# Train the model\n",
        "training_history = cnn.fit(\n",
        "    training_set,\n",
        "    validation_data=validation_set,\n",
        "    epochs=32\n",
        ")\n"
      ]
    },
    {
      "cell_type": "markdown",
      "metadata": {
        "id": "5XY79vV8X8AK"
      },
      "source": [
        "# Saving Model"
      ]
    },
    {
      "cell_type": "code",
      "execution_count": null,
      "metadata": {
        "colab": {
          "base_uri": "https://localhost:8080/"
        },
        "id": "u_Og4rQJYBjH",
        "outputId": "d298ae0b-7b65-4222-b295-56e4ee754464"
      },
      "outputs": [
        {
          "output_type": "stream",
          "name": "stderr",
          "text": [
            "/usr/local/lib/python3.10/dist-packages/keras/src/engine/training.py:3103: UserWarning: You are saving your model as an HDF5 file via `model.save()`. This file format is considered legacy. We recommend using instead the native Keras format, e.g. `model.save('my_model.keras')`.\n",
            "  saving_api.save_model(\n"
          ]
        }
      ],
      "source": [
        "cnn.save('trained_model.h5')"
      ]
    },
    {
      "cell_type": "code",
      "execution_count": null,
      "metadata": {
        "colab": {
          "base_uri": "https://localhost:8080/"
        },
        "id": "pSjN-cGCZJne",
        "outputId": "7c1ebd1b-b38c-49d8-c4ed-842820c08199"
      },
      "outputs": [
        {
          "output_type": "execute_result",
          "data": {
            "text/plain": [
              "{'loss': [4.834507942199707,\n",
              "  4.828731536865234,\n",
              "  4.825463771820068,\n",
              "  4.823564052581787,\n",
              "  4.822476387023926,\n",
              "  4.821875095367432,\n",
              "  4.821530342102051,\n",
              "  4.821298599243164,\n",
              "  4.821271896362305,\n",
              "  4.821177005767822,\n",
              "  4.821114540100098,\n",
              "  4.821113109588623,\n",
              "  4.8211188316345215,\n",
              "  4.821125507354736,\n",
              "  4.8211236000061035,\n",
              "  4.821078300476074,\n",
              "  4.8210906982421875,\n",
              "  4.821103096008301,\n",
              "  4.821083068847656,\n",
              "  4.8211493492126465,\n",
              "  4.821062088012695,\n",
              "  4.82107400894165,\n",
              "  4.821104526519775,\n",
              "  4.821117401123047,\n",
              "  4.821093559265137,\n",
              "  4.821073055267334,\n",
              "  4.821040630340576,\n",
              "  4.821061611175537,\n",
              "  4.821080207824707,\n",
              "  4.821076393127441,\n",
              "  4.8210930824279785,\n",
              "  4.821135997772217],\n",
              " 'accuracy': [0.0086905462667346,\n",
              "  0.009160305373370647,\n",
              "  0.009395184926688671,\n",
              "  0.010099823586642742,\n",
              "  0.009864944033324718,\n",
              "  0.010099823586642742,\n",
              "  0.010804463177919388,\n",
              "  0.010217263363301754,\n",
              "  0.009160305373370647,\n",
              "  0.010099823586642742,\n",
              "  0.00927774515002966,\n",
              "  0.010334703139960766,\n",
              "  0.010804463177919388,\n",
              "  0.011743981391191483,\n",
              "  0.010804463177919388,\n",
              "  0.010687022469937801,\n",
              "  0.010334703139960766,\n",
              "  0.010217263363301754,\n",
              "  0.011861421167850494,\n",
              "  0.010804463177919388,\n",
              "  0.01056958269327879,\n",
              "  0.010334703139960766,\n",
              "  0.009864944033324718,\n",
              "  0.010099823586642742,\n",
              "  0.010099823586642742,\n",
              "  0.009160305373370647,\n",
              "  0.00998238380998373,\n",
              "  0.0086905462667346,\n",
              "  0.008925425820052624,\n",
              "  0.009630064480006695,\n",
              "  0.009864944033324718,\n",
              "  0.00998238380998373],\n",
              " 'val_loss': [4.829242706298828,\n",
              "  4.8250508308410645,\n",
              "  4.82258415222168,\n",
              "  4.821130275726318,\n",
              "  4.820348262786865,\n",
              "  4.8198652267456055,\n",
              "  4.819596290588379,\n",
              "  4.819461345672607,\n",
              "  4.819377899169922,\n",
              "  4.819343566894531,\n",
              "  4.81931209564209,\n",
              "  4.819302558898926,\n",
              "  4.819304943084717,\n",
              "  4.819300174713135,\n",
              "  4.8192949295043945,\n",
              "  4.819289207458496,\n",
              "  4.819293022155762,\n",
              "  4.819295406341553,\n",
              "  4.819293022155762,\n",
              "  4.819296360015869,\n",
              "  4.819290637969971,\n",
              "  4.819290637969971,\n",
              "  4.819291591644287,\n",
              "  4.819302082061768,\n",
              "  4.819293022155762,\n",
              "  4.8192925453186035,\n",
              "  4.819290637969971,\n",
              "  4.819285869598389,\n",
              "  4.8192901611328125,\n",
              "  4.819300174713135,\n",
              "  4.8192973136901855,\n",
              "  4.819296836853027],\n",
              " 'val_accuracy': [0.011509101837873459,\n",
              "  0.011743981391191483,\n",
              "  0.011509101837873459,\n",
              "  0.011743981391191483,\n",
              "  0.011743981391191483,\n",
              "  0.011743981391191483,\n",
              "  0.011743981391191483,\n",
              "  0.011743981391191483,\n",
              "  0.011743981391191483,\n",
              "  0.011743981391191483,\n",
              "  0.011743981391191483,\n",
              "  0.011743981391191483,\n",
              "  0.011743981391191483,\n",
              "  0.011743981391191483,\n",
              "  0.011743981391191483,\n",
              "  0.011743981391191483,\n",
              "  0.011743981391191483,\n",
              "  0.011743981391191483,\n",
              "  0.011743981391191483,\n",
              "  0.011743981391191483,\n",
              "  0.011743981391191483,\n",
              "  0.011743981391191483,\n",
              "  0.011743981391191483,\n",
              "  0.011743981391191483,\n",
              "  0.011743981391191483,\n",
              "  0.011743981391191483,\n",
              "  0.011743981391191483,\n",
              "  0.011743981391191483,\n",
              "  0.011743981391191483,\n",
              "  0.011743981391191483,\n",
              "  0.011743981391191483,\n",
              "  0.011743981391191483]}"
            ]
          },
          "metadata": {},
          "execution_count": 24
        }
      ],
      "source": [
        "training_history.history  # Return Dictionary of History"
      ]
    },
    {
      "cell_type": "code",
      "execution_count": null,
      "metadata": {
        "id": "jUd-gjW1YSr_"
      },
      "outputs": [],
      "source": [
        "# Recording History in Json file\n",
        "import json\n",
        "with open('training_history.json', 'w') as f:\n",
        "    json.dump(training_history.history, f)"
      ]
    },
    {
      "cell_type": "code",
      "execution_count": null,
      "metadata": {
        "colab": {
          "base_uri": "https://localhost:8080/"
        },
        "id": "J0vxexRJZ421",
        "outputId": "af2e8e73-bcc9-4ffd-eb1a-704d8ef2bd8e"
      },
      "outputs": [
        {
          "output_type": "stream",
          "name": "stdout",
          "text": [
            "dict_keys(['loss', 'accuracy', 'val_loss', 'val_accuracy'])\n"
          ]
        }
      ],
      "source": [
        "print(training_history.history.keys())"
      ]
    },
    {
      "cell_type": "markdown",
      "metadata": {
        "id": "CVWV91tQaLyL"
      },
      "source": [
        "# Calculating Accuracy of Model Achieved on Validation Set"
      ]
    },
    {
      "cell_type": "code",
      "execution_count": null,
      "metadata": {
        "colab": {
          "base_uri": "https://localhost:8080/"
        },
        "id": "3BP0re7HaWc6",
        "outputId": "00ade3cf-41e9-43d1-c0af-b4d5243ae93a"
      },
      "outputs": [
        {
          "output_type": "execute_result",
          "data": {
            "text/plain": [
              "[0.011509101837873459,\n",
              " 0.011743981391191483,\n",
              " 0.011509101837873459,\n",
              " 0.011743981391191483,\n",
              " 0.011743981391191483,\n",
              " 0.011743981391191483,\n",
              " 0.011743981391191483,\n",
              " 0.011743981391191483,\n",
              " 0.011743981391191483,\n",
              " 0.011743981391191483,\n",
              " 0.011743981391191483,\n",
              " 0.011743981391191483,\n",
              " 0.011743981391191483,\n",
              " 0.011743981391191483,\n",
              " 0.011743981391191483,\n",
              " 0.011743981391191483,\n",
              " 0.011743981391191483,\n",
              " 0.011743981391191483,\n",
              " 0.011743981391191483,\n",
              " 0.011743981391191483,\n",
              " 0.011743981391191483,\n",
              " 0.011743981391191483,\n",
              " 0.011743981391191483,\n",
              " 0.011743981391191483,\n",
              " 0.011743981391191483,\n",
              " 0.011743981391191483,\n",
              " 0.011743981391191483,\n",
              " 0.011743981391191483,\n",
              " 0.011743981391191483,\n",
              " 0.011743981391191483,\n",
              " 0.011743981391191483,\n",
              " 0.011743981391191483]"
            ]
          },
          "metadata": {},
          "execution_count": 27
        }
      ],
      "source": [
        "training_history.history['val_accuracy']"
      ]
    },
    {
      "cell_type": "code",
      "execution_count": null,
      "metadata": {
        "colab": {
          "base_uri": "https://localhost:8080/"
        },
        "id": "wfE4Ayyka4Sg",
        "outputId": "acaca214-ddc2-4e37-c1f9-7c948f614f37"
      },
      "outputs": [
        {
          "output_type": "stream",
          "name": "stdout",
          "text": [
            "Validation set Accuracy: 1.1743981391191483 %\n"
          ]
        }
      ],
      "source": [
        "print(\"Validation set Accuracy: {} %\".format(training_history.history['val_accuracy'][-2] * 100))"
      ]
    },
    {
      "cell_type": "markdown",
      "metadata": {
        "id": "X5wgyPcxct9m"
      },
      "source": [
        "# Accuracy Visualization"
      ]
    },
    {
      "cell_type": "markdown",
      "metadata": {
        "id": "REy7ZLJrc0kQ"
      },
      "source": [
        "# Training Visualization"
      ]
    },
    {
      "cell_type": "code",
      "execution_count": null,
      "metadata": {
        "colab": {
          "base_uri": "https://localhost:8080/",
          "height": 472
        },
        "id": "J8QUYDGNdGuX",
        "outputId": "2c618ef5-783b-43fa-ebe0-f9ddc9fb9a75"
      },
      "outputs": [
        {
          "output_type": "display_data",
          "data": {
            "text/plain": [
              "<Figure size 640x480 with 1 Axes>"
            ],
            "image/png": "[encoded data removed]"
          },
          "metadata": {}
        }
      ],
      "source": [
        "epochs = [i for i in range(1, 33)]\n",
        "plt.plot(epochs, training_history.history['accuracy'], color = 'red', label='Training Accuracy')\n",
        "plt.plot(epochs, training_history.history['val_accuracy'], label='Validation Accuracy')\n",
        "plt.xlabel('Number of Epochs')\n",
        "plt.ylabel('Accuracy')\n",
        "plt.legend()\n",
        "plt.title('Visualization of Training and Validation Accuracy Result')\n",
        "plt.show()"
      ]
    },
    {
      "cell_type": "code",
      "execution_count": null,
      "metadata": {
        "colab": {
          "base_uri": "https://localhost:8080/",
          "height": 641
        },
        "id": "E5AZC08Sdpbs",
        "outputId": "e37bdb46-103b-43af-d76a-dd05a8355bfb"
      },
      "outputs": [
        {
          "output_type": "execute_result",
          "data": {
            "text/plain": [
              "<function matplotlib.pyplot.show(close=None, block=None)>"
            ],
            "text/html": [
              "<div style=\"max-width:800px; border: 1px solid var(--colab-border-color);\"><style>\n",
              "      pre.function-repr-contents {\n",
              "        overflow-x: auto;\n",
              "        padding: 8px 12px;\n",
              "        max-height: 500px;\n",
              "      }\n",
              "\n",
              "      pre.function-repr-contents.function-repr-contents-collapsed {\n",
              "        cursor: pointer;\n",
              "        max-height: 100px;\n",
              "      }\n",
              "    </style>\n",
              "    <pre style=\"white-space: initial; background:\n",
              "         var(--colab-secondary-surface-color); padding: 8px 12px;\n",
              "         border-bottom: 1px solid var(--colab-border-color);\"><b>matplotlib.pyplot.show</b><br/>def show(*args, **kwargs)</pre><pre class=\"function-repr-contents function-repr-contents-collapsed\" style=\"\"><a class=\"filepath\" style=\"display:none\" href=\"#\">/usr/local/lib/python3.10/dist-packages/matplotlib/pyplot.py</a>Display all open figures.\n",
              "\n",
              "Parameters\n",
              "----------\n",
              "block : bool, optional\n",
              "    Whether to wait for all figures to be closed before returning.\n",
              "\n",
              "    If `True` block and run the GUI main loop until all figure windows\n",
              "    are closed.\n",
              "\n",
              "    If `False` ensure that all figure windows are displayed and return\n",
              "    immediately.  In this case, you are responsible for ensuring\n",
              "    that the event loop is running to have responsive figures.\n",
              "\n",
              "    Defaults to True in non-interactive mode and to False in interactive\n",
              "    mode (see `.pyplot.isinteractive`).\n",
              "\n",
              "See Also\n",
              "--------\n",
              "ion : Enable interactive mode, which shows / updates the figure after\n",
              "      every plotting command, so that calling ``show()`` is not necessary.\n",
              "ioff : Disable interactive mode.\n",
              "savefig : Save the figure to an image file instead of showing it on screen.\n",
              "\n",
              "Notes\n",
              "-----\n",
              "**Saving figures to file and showing a window at the same time**\n",
              "\n",
              "If you want an image file as well as a user interface window, use\n",
              "`.pyplot.savefig` before `.pyplot.show`. At the end of (a blocking)\n",
              "``show()`` the figure is closed and thus unregistered from pyplot. Calling\n",
              "`.pyplot.savefig` afterwards would save a new and thus empty figure. This\n",
              "limitation of command order does not apply if the show is non-blocking or\n",
              "if you keep a reference to the figure and use `.Figure.savefig`.\n",
              "\n",
              "**Auto-show in jupyter notebooks**\n",
              "\n",
              "The jupyter backends (activated via ``%matplotlib inline``,\n",
              "``%matplotlib notebook``, or ``%matplotlib widget``), call ``show()`` at\n",
              "the end of every cell by default. Thus, you usually don&#x27;t have to call it\n",
              "explicitly there.</pre>\n",
              "      <script>\n",
              "      if (google.colab.kernel.accessAllowed && google.colab.files && google.colab.files.view) {\n",
              "        for (const element of document.querySelectorAll('.filepath')) {\n",
              "          element.style.display = 'block'\n",
              "          element.onclick = (event) => {\n",
              "            event.preventDefault();\n",
              "            event.stopPropagation();\n",
              "            google.colab.files.view(element.textContent, 401);\n",
              "          };\n",
              "        }\n",
              "      }\n",
              "      for (const element of document.querySelectorAll('.function-repr-contents')) {\n",
              "        element.onclick = (event) => {\n",
              "          event.preventDefault();\n",
              "          event.stopPropagation();\n",
              "          element.classList.toggle('function-repr-contents-collapsed');\n",
              "        };\n",
              "      }\n",
              "      </script>\n",
              "      </div>"
            ]
          },
          "metadata": {},
          "execution_count": 30
        },
        {
          "output_type": "display_data",
          "data": {
            "text/plain": [
              "<Figure size 640x480 with 1 Axes>"
            ],
            "image/png": "[encoded data removed]"
          },
          "metadata": {}
        }
      ],
      "source": [
        "plt.plot(epochs, training_history.history['val_accuracy'], color = 'green', label='Validation Accuracy')\n",
        "plt.xlabel('Number of Epochs')\n",
        "plt.ylabel('Accuracy')\n",
        "plt.legend()\n",
        "plt.title('Visualization of Validation Accuracy Result')\n",
        "plt.show"
      ]
    },
    {
      "cell_type": "markdown",
      "source": [
        "# Evaluating CNN Model"
      ],
      "metadata": {
        "id": "xQTy5-lfx8wG"
      }
    },
    {
      "cell_type": "code",
      "source": [
        "training_loss, training_accuracy = cnn.evaluate(training_set)"
      ],
      "metadata": {
        "colab": {
          "base_uri": "https://localhost:8080/"
        },
        "id": "rjtVDbZlwY6u",
        "outputId": "bfb60da9-59bb-47d7-d1c1-fab93e2b696e"
      },
      "execution_count": null,
      "outputs": [
        {
          "output_type": "stream",
          "name": "stdout",
          "text": [
            "267/267 [==============================] - 216s 795ms/step - loss: 4.8193 - accuracy: 0.0117\n"
          ]
        }
      ]
    },
    {
      "cell_type": "code",
      "source": [
        "val_loss, val_accuracy = cnn.evaluate(validation_set)"
      ],
      "metadata": {
        "colab": {
          "base_uri": "https://localhost:8080/"
        },
        "id": "mm7fT_EpwyS0",
        "outputId": "12d8bdea-33ad-4247-96ef-e03c040ed448"
      },
      "execution_count": null,
      "outputs": [
        {
          "output_type": "stream",
          "name": "stdout",
          "text": [
            "267/267 [==============================] - 205s 756ms/step - loss: 4.8193 - accuracy: 0.0117\n"
          ]
        }
      ]
    },
    {
      "cell_type": "markdown",
      "source": [
        "# Test Set Evaluation"
      ],
      "metadata": {
        "id": "gf31h_YYxBmm"
      }
    },
    {
      "cell_type": "code",
      "source": [
        "test_set = tf.keras.utils.image_dataset_from_directory(\n",
        "    '/content/drive/MyDrive/Images/Images',\n",
        "    labels='inferred',\n",
        "    label_mode='int',\n",
        "    class_names=None,\n",
        "    color_mode='rgb',\n",
        "    batch_size=32,\n",
        "    image_size=(64, 64),\n",
        "    shuffle=True,\n",
        "    seed=None,\n",
        "    validation_split=None,\n",
        "    subset=None,\n",
        "    interpolation='bilinear',\n",
        "    follow_links=False,\n",
        "    crop_to_aspect_ratio=False\n",
        ")\n"
      ],
      "metadata": {
        "colab": {
          "base_uri": "https://localhost:8080/"
        },
        "id": "X3-KswyOxHJh",
        "outputId": "e1da3252-2fbb-4fd9-8f77-3e802871527c"
      },
      "execution_count": null,
      "outputs": [
        {
          "output_type": "stream",
          "name": "stdout",
          "text": [
            "Found 8515 files belonging to 126 classes.\n"
          ]
        }
      ]
    },
    {
      "cell_type": "code",
      "source": [
        "test_loss, test_accuracy = cnn.evaluate(test_set)"
      ],
      "metadata": {
        "colab": {
          "base_uri": "https://localhost:8080/"
        },
        "id": "1axAkzfjxxPN",
        "outputId": "a40a3414-d1ca-430d-ba52-e624489b83c3"
      },
      "execution_count": null,
      "outputs": [
        {
          "output_type": "stream",
          "name": "stdout",
          "text": [
            "267/267 [==============================] - 205s 753ms/step - loss: 4.8193 - accuracy: 0.0117\n"
          ]
        }
      ]
    },
    {
      "cell_type": "code",
      "source": [
        "test_accuracy"
      ],
      "metadata": {
        "colab": {
          "base_uri": "https://localhost:8080/"
        },
        "id": "5Mr78bOBKsm2",
        "outputId": "0622feef-cf0c-419f-d2a4-c2fea9d6f488"
      },
      "execution_count": null,
      "outputs": [
        {
          "output_type": "execute_result",
          "data": {
            "text/plain": [
              "0.011743981391191483"
            ]
          },
          "metadata": {},
          "execution_count": 38
        }
      ]
    }
  ],
  "metadata": {
    "colab": {
      "provenance": [],
      "mount_file_id": "1xdRsoRIY6i5eGHD3aafuSPA9clOfYkhb",
      "authorship_tag": "ABX9TyPAm9xGmgtJhBEi60ndulcc",
      "include_colab_link": true
    },
    "kernelspec": {
      "display_name": "Python 3",
      "name": "python3"
    },
    "language_info": {
      "name": "python"
    }
  },
  "nbformat": 4,
  "nbformat_minor": 0
}